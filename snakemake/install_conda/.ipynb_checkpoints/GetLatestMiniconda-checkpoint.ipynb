{
 "metadata": {
  "name": "",
  "signature": "sha256:1129269b00fb6f440c62a40176c354521246b4c97a49d6388a82f3531634741d"
 },
 "nbformat": 3,
 "nbformat_minor": 0,
 "worksheets": [
  {
   "cells": [
    {
     "cell_type": "code",
     "collapsed": false,
     "input": [
      "import sys\n",
      "import urllib2\n",
      "import re\n",
      "from bs4 import BeautifulSoup\n",
      "# or if you're using BeautifulSoup4:\n",
      "# from bs4 import BeautifulSoup\n",
      "URL=\"http://repo.continuum.io/miniconda/\"\n",
      "soup = BeautifulSoup(urllib2.urlopen(URL).read())\n",
      "from datetime import datetime\n",
      "date_url = {}\n",
      "table = soup.find(\"table\")\n",
      "links = table.find_all(\"a\",href=re.compile(\"Miniconda3.*inux-x86_64\"))\n",
      "for link in links:\n",
      "    \n",
      "    l = URL+link.get(\"href\").strip(\"./\")\n",
      "    date = datetime.strptime(link.parent.next_sibling.next_sibling.next_sibling.next_sibling.next_element, \"%Y-%m-%d %H:%M:%S\")\n",
      "    #date = link.parent.next_sibling.next_sibling.next_sibling.next_sibling.next_element\n",
      "    date_url[date] = l\n",
      "print >> sys.stdout, date_url[max(date_url)]"
     ],
     "language": "python",
     "metadata": {},
     "outputs": [
      {
       "output_type": "stream",
       "stream": "stdout",
       "text": [
        "http://repo.continuum.io/miniconda/Miniconda3-3.4.2-Linux-x86_64.sh\n"
       ]
      }
     ],
     "prompt_number": 83
    }
   ],
   "metadata": {}
  }
 ]
}